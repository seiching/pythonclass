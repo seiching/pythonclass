{
  "nbformat": 4,
  "nbformat_minor": 0,
  "metadata": {
    "colab": {
      "provenance": []
    },
    "kernelspec": {
      "name": "python3",
      "display_name": "Python 3"
    },
    "language_info": {
      "name": "python"
    }
  },
  "cells": [
    {
      "cell_type": "code",
      "execution_count": null,
      "metadata": {
        "colab": {
          "base_uri": "https://localhost:8080/"
        },
        "id": "tPfVEllipUUl",
        "outputId": "683bc528-a019-4e2a-c64d-91d798c1d373"
      },
      "outputs": [
        {
          "output_type": "stream",
          "name": "stdout",
          "text": [
            "--2023-10-19 01:56:32--  https://github.com/seiching/pythonclass/raw/master/ai/aivideo.mp3\n",
            "Resolving github.com (github.com)... 140.82.113.3\n",
            "Connecting to github.com (github.com)|140.82.113.3|:443... connected.\n",
            "HTTP request sent, awaiting response... 302 Found\n",
            "Location: https://raw.githubusercontent.com/seiching/pythonclass/master/ai/aivideo.mp3 [following]\n",
            "--2023-10-19 01:56:32--  https://raw.githubusercontent.com/seiching/pythonclass/master/ai/aivideo.mp3\n",
            "Resolving raw.githubusercontent.com (raw.githubusercontent.com)... 185.199.108.133, 185.199.109.133, 185.199.110.133, ...\n",
            "Connecting to raw.githubusercontent.com (raw.githubusercontent.com)|185.199.108.133|:443... connected.\n",
            "HTTP request sent, awaiting response... 200 OK\n",
            "Length: 8500799 (8.1M) [application/octet-stream]\n",
            "Saving to: ‘aivideo.mp3’\n",
            "\n",
            "aivideo.mp3         100%[===================>]   8.11M  --.-KB/s    in 0.1s    \n",
            "\n",
            "2023-10-19 01:56:33 (76.7 MB/s) - ‘aivideo.mp3’ saved [8500799/8500799]\n",
            "\n"
          ]
        }
      ],
      "source": [
        "! wget https://github.com/seiching/pythonclass/raw/master/ai/aivideo.mp3"
      ]
    },
    {
      "cell_type": "code",
      "source": [
        "\n",
        "!pip install git+https://github.com/openai/whisper.git"
      ],
      "metadata": {
        "colab": {
          "base_uri": "https://localhost:8080/"
        },
        "id": "UYcf_x89psYf",
        "outputId": "791e3fef-f671-4323-e175-8084a48ea4db"
      },
      "execution_count": null,
      "outputs": [
        {
          "output_type": "stream",
          "name": "stdout",
          "text": [
            "Collecting git+https://github.com/openai/whisper.git\n",
            "  Cloning https://github.com/openai/whisper.git to /tmp/pip-req-build-lfydve7u\n",
            "  Running command git clone --filter=blob:none --quiet https://github.com/openai/whisper.git /tmp/pip-req-build-lfydve7u\n",
            "  Resolved https://github.com/openai/whisper.git to commit b38a1f20f4b23f3f3099af2c3e0ca95627276ddf\n",
            "  Installing build dependencies ... \u001b[?25l\u001b[?25hdone\n",
            "  Getting requirements to build wheel ... \u001b[?25l\u001b[?25hdone\n",
            "  Preparing metadata (pyproject.toml) ... \u001b[?25l\u001b[?25hdone\n",
            "Requirement already satisfied: triton==2.0.0 in /usr/local/lib/python3.10/dist-packages (from openai-whisper==20230918) (2.0.0)\n",
            "Requirement already satisfied: numba in /usr/local/lib/python3.10/dist-packages (from openai-whisper==20230918) (0.56.4)\n",
            "Requirement already satisfied: numpy in /usr/local/lib/python3.10/dist-packages (from openai-whisper==20230918) (1.23.5)\n",
            "Requirement already satisfied: torch in /usr/local/lib/python3.10/dist-packages (from openai-whisper==20230918) (2.0.1+cu118)\n",
            "Requirement already satisfied: tqdm in /usr/local/lib/python3.10/dist-packages (from openai-whisper==20230918) (4.66.1)\n",
            "Requirement already satisfied: more-itertools in /usr/local/lib/python3.10/dist-packages (from openai-whisper==20230918) (10.1.0)\n",
            "Collecting tiktoken==0.3.3 (from openai-whisper==20230918)\n",
            "  Downloading tiktoken-0.3.3-cp310-cp310-manylinux_2_17_x86_64.manylinux2014_x86_64.whl (1.7 MB)\n",
            "\u001b[2K     \u001b[90m━━━━━━━━━━━━━━━━━━━━━━━━━━━━━━━━━━━━━━━━\u001b[0m \u001b[32m1.7/1.7 MB\u001b[0m \u001b[31m19.8 MB/s\u001b[0m eta \u001b[36m0:00:00\u001b[0m\n",
            "\u001b[?25hRequirement already satisfied: regex>=2022.1.18 in /usr/local/lib/python3.10/dist-packages (from tiktoken==0.3.3->openai-whisper==20230918) (2023.6.3)\n",
            "Requirement already satisfied: requests>=2.26.0 in /usr/local/lib/python3.10/dist-packages (from tiktoken==0.3.3->openai-whisper==20230918) (2.31.0)\n",
            "Requirement already satisfied: cmake in /usr/local/lib/python3.10/dist-packages (from triton==2.0.0->openai-whisper==20230918) (3.27.7)\n",
            "Requirement already satisfied: filelock in /usr/local/lib/python3.10/dist-packages (from triton==2.0.0->openai-whisper==20230918) (3.12.4)\n",
            "Requirement already satisfied: lit in /usr/local/lib/python3.10/dist-packages (from triton==2.0.0->openai-whisper==20230918) (17.0.2)\n",
            "Requirement already satisfied: llvmlite<0.40,>=0.39.0dev0 in /usr/local/lib/python3.10/dist-packages (from numba->openai-whisper==20230918) (0.39.1)\n",
            "Requirement already satisfied: setuptools in /usr/local/lib/python3.10/dist-packages (from numba->openai-whisper==20230918) (67.7.2)\n",
            "Requirement already satisfied: typing-extensions in /usr/local/lib/python3.10/dist-packages (from torch->openai-whisper==20230918) (4.5.0)\n",
            "Requirement already satisfied: sympy in /usr/local/lib/python3.10/dist-packages (from torch->openai-whisper==20230918) (1.12)\n",
            "Requirement already satisfied: networkx in /usr/local/lib/python3.10/dist-packages (from torch->openai-whisper==20230918) (3.1)\n",
            "Requirement already satisfied: jinja2 in /usr/local/lib/python3.10/dist-packages (from torch->openai-whisper==20230918) (3.1.2)\n",
            "Requirement already satisfied: charset-normalizer<4,>=2 in /usr/local/lib/python3.10/dist-packages (from requests>=2.26.0->tiktoken==0.3.3->openai-whisper==20230918) (3.3.0)\n",
            "Requirement already satisfied: idna<4,>=2.5 in /usr/local/lib/python3.10/dist-packages (from requests>=2.26.0->tiktoken==0.3.3->openai-whisper==20230918) (3.4)\n",
            "Requirement already satisfied: urllib3<3,>=1.21.1 in /usr/local/lib/python3.10/dist-packages (from requests>=2.26.0->tiktoken==0.3.3->openai-whisper==20230918) (2.0.6)\n",
            "Requirement already satisfied: certifi>=2017.4.17 in /usr/local/lib/python3.10/dist-packages (from requests>=2.26.0->tiktoken==0.3.3->openai-whisper==20230918) (2023.7.22)\n",
            "Requirement already satisfied: MarkupSafe>=2.0 in /usr/local/lib/python3.10/dist-packages (from jinja2->torch->openai-whisper==20230918) (2.1.3)\n",
            "Requirement already satisfied: mpmath>=0.19 in /usr/local/lib/python3.10/dist-packages (from sympy->torch->openai-whisper==20230918) (1.3.0)\n",
            "Building wheels for collected packages: openai-whisper\n",
            "  Building wheel for openai-whisper (pyproject.toml) ... \u001b[?25l\u001b[?25hdone\n",
            "  Created wheel for openai-whisper: filename=openai_whisper-20230918-py3-none-any.whl size=798405 sha256=95008af098f838ec70be1820717f7abadd5ecd681bc98645d56b22fe039bc8e4\n",
            "  Stored in directory: /tmp/pip-ephem-wheel-cache-_8lzttlb/wheels/8b/6c/d0/622666868c179f156cf595c8b6f06f88bc5d80c4b31dccaa03\n",
            "Successfully built openai-whisper\n",
            "Installing collected packages: tiktoken, openai-whisper\n",
            "\u001b[31mERROR: pip's dependency resolver does not currently take into account all the packages that are installed. This behaviour is the source of the following dependency conflicts.\n",
            "llmx 0.0.15a0 requires cohere, which is not installed.\n",
            "llmx 0.0.15a0 requires openai, which is not installed.\u001b[0m\u001b[31m\n",
            "\u001b[0mSuccessfully installed openai-whisper-20230918 tiktoken-0.3.3\n"
          ]
        }
      ]
    },
    {
      "cell_type": "code",
      "source": [
        "\n",
        "!sudo apt update && sudo apt install ffmpeg"
      ],
      "metadata": {
        "colab": {
          "base_uri": "https://localhost:8080/"
        },
        "id": "VWWJ7OTxpxBN",
        "outputId": "4c98a10e-e738-4b5f-ea14-8c600ac82b2e"
      },
      "execution_count": null,
      "outputs": [
        {
          "output_type": "stream",
          "name": "stdout",
          "text": [
            "Hit:1 https://developer.download.nvidia.com/compute/cuda/repos/ubuntu2204/x86_64  InRelease\n",
            "Hit:2 http://archive.ubuntu.com/ubuntu jammy InRelease\n",
            "Get:3 http://security.ubuntu.com/ubuntu jammy-security InRelease [110 kB]\n",
            "Get:4 https://cloud.r-project.org/bin/linux/ubuntu jammy-cran40/ InRelease [3,626 B]\n",
            "Get:5 http://archive.ubuntu.com/ubuntu jammy-updates InRelease [119 kB]\n",
            "Get:6 https://ppa.launchpadcontent.net/c2d4u.team/c2d4u4.0+/ubuntu jammy InRelease [18.1 kB]\n",
            "Get:7 http://archive.ubuntu.com/ubuntu jammy-backports InRelease [109 kB]\n",
            "Get:8 http://security.ubuntu.com/ubuntu jammy-security/restricted amd64 Packages [1,229 kB]\n",
            "Hit:9 https://ppa.launchpadcontent.net/deadsnakes/ppa/ubuntu jammy InRelease\n",
            "Get:10 http://archive.ubuntu.com/ubuntu jammy-updates/restricted amd64 Packages [1,254 kB]\n",
            "Get:11 http://security.ubuntu.com/ubuntu jammy-security/universe amd64 Packages [1,006 kB]\n",
            "Hit:12 https://ppa.launchpadcontent.net/graphics-drivers/ppa/ubuntu jammy InRelease\n",
            "Get:13 http://security.ubuntu.com/ubuntu jammy-security/main amd64 Packages [1,084 kB]\n",
            "Get:14 http://archive.ubuntu.com/ubuntu jammy-updates/universe amd64 Packages [1,271 kB]\n",
            "Get:15 http://archive.ubuntu.com/ubuntu jammy-updates/main amd64 Packages [1,351 kB]\n",
            "Hit:16 https://ppa.launchpadcontent.net/ubuntugis/ppa/ubuntu jammy InRelease\n",
            "Get:17 https://ppa.launchpadcontent.net/c2d4u.team/c2d4u4.0+/ubuntu jammy/main Sources [2,229 kB]\n",
            "Get:18 https://ppa.launchpadcontent.net/c2d4u.team/c2d4u4.0+/ubuntu jammy/main amd64 Packages [1,144 kB]\n",
            "Fetched 10.9 MB in 5s (2,315 kB/s)\n",
            "Reading package lists... Done\n",
            "Building dependency tree... Done\n",
            "Reading state information... Done\n",
            "19 packages can be upgraded. Run 'apt list --upgradable' to see them.\n",
            "Reading package lists... Done\n",
            "Building dependency tree... Done\n",
            "Reading state information... Done\n",
            "ffmpeg is already the newest version (7:4.4.2-0ubuntu0.22.04.1).\n",
            "0 upgraded, 0 newly installed, 0 to remove and 19 not upgraded.\n"
          ]
        }
      ]
    },
    {
      "cell_type": "code",
      "source": [
        "\n",
        "!whisper \"aivideo.mp3\" --model large\n"
      ],
      "metadata": {
        "colab": {
          "base_uri": "https://localhost:8080/"
        },
        "id": "fruhP0CApyLV",
        "outputId": "50ea858a-54df-4066-eb94-8b36ae07f701"
      },
      "execution_count": null,
      "outputs": [
        {
          "output_type": "stream",
          "name": "stdout",
          "text": [
            "100%|██████████████████████████████████████| 2.87G/2.87G [00:20<00:00, 152MiB/s]\n",
            "/usr/local/lib/python3.10/dist-packages/whisper/transcribe.py:114: UserWarning: FP16 is not supported on CPU; using FP32 instead\n",
            "  warnings.warn(\"FP16 is not supported on CPU; using FP32 instead\")\n",
            "Detecting language using up to the first 30 seconds. Use `--language` to specify the language\n",
            "Detected language: Chinese\n",
            "[00:00.000 --> 00:03.840] AI影音製作進入嶄新紀元\n",
            "[00:04.100 --> 00:09.460] I在教學領域的應用為影音製作帶來革新\n",
            "[00:09.720 --> 00:15.860] 本簡報深入探討AI在影音製作中的應用與製作流程\n",
            "[00:16.120 --> 00:20.740] 為你揭開AI技術在創作中的奇蹟\n",
            "[00:21.500 --> 00:25.340] 讓我們一窺製作流程的神奇\n",
            "[00:25.600 --> 00:26.880] 首先\n",
            "[00:27.080 --> 00:30.920] 透過ChatGPT生成初步大綱\n",
            "[00:31.180 --> 00:35.800] 為後續的簡報和影片打下堅實基礎\n",
            "[00:36.060 --> 00:39.880] 接著將大綱傳遞給Gamma\n",
            "[00:40.140 --> 00:42.700] 獲取專業簡報效果\n",
            "[00:42.960 --> 00:47.040] 然後再次移動ChatGPT\n",
            "[00:47.300 --> 00:50.880] 透過其生成的影片逐字稿\n",
            "[00:51.140 --> 00:55.500] 為影片製作提供豐富文字內容\n",
            "[00:55.660 --> 00:58.940] 這套流程結合AI技術\n",
            "[00:59.200 --> 01:03.020] 為製作過程注入高效與專業\n",
            "[01:03.280 --> 01:06.600] 讓創作更加輕鬆而卓越\n",
            "[01:06.860 --> 01:08.920] Collab生成聲音檔\n",
            "[01:09.180 --> 01:13.280] 利用Collab和Google聲音生成函式庫\n",
            "[01:13.540 --> 01:19.400] 巧妙地將文字逐字稿轉化為引人入勝的聲音檔\n",
            "[01:20.080 --> 01:23.580] 這一步驟依賴強大的AI技術\n",
            "[01:23.840 --> 01:29.480] 為影片注入聲動的語音元素提升觀影體驗\n",
            "[01:30.240 --> 01:35.900] PowerPoint插入聲音檔接著將創建的聲音檔\n",
            "[01:36.160 --> 01:42.300] 嵌入PowerPoint中為整個影片製作添加豐富的聲音\n",
            "[01:42.560 --> 01:43.080] 效果\n",
            "[01:44.040 --> 01:51.220] 這一步驟關鍵使得觀眾能夠同時聆聽和視覺化影片的內容\n",
            "[01:51.480 --> 01:53.020] 提升互動性\n",
            "[01:54.040 --> 01:57.620] PowerPoint輸出影片檔最後\n",
            "[01:57.880 --> 02:04.520] 完成的PowerPoint檔案被輸出為令人驚艷的影片檔\n",
            "[02:05.260 --> 02:10.160] 這一步驟為後續的字幕製作提供了準備\n",
            "[02:10.520 --> 02:14.060] 將整體製作流程更加完整\n",
            "[02:14.320 --> 02:17.900] 透過PowerPoint的輸出功能\n",
            "[02:18.160 --> 02:22.480] 確保影片保留高品質和流暢度\n",
            "[02:22.740 --> 02:28.300] 這樣的影片製作流程整合了AI生成聲音\n",
            "[02:28.560 --> 02:30.840] PowerPoint技術\n",
            "[02:31.100 --> 02:37.240] 為創作者提供了一個高效而具有影響力的製作管道\n",
            "[02:37.960 --> 02:40.260] 字幕製作流程\n",
            "[02:40.520 --> 02:44.100] Whisper生成SRT字幕檔\n",
            "[02:44.360 --> 02:50.240] 利用Whisper進行專業的SRT字幕檔生成\n",
            "[02:50.500 --> 02:55.360] 為影片製作增添文字提示和翻譯效果\n",
            "[02:55.620 --> 03:02.280] Whisper的卓越功能使得字幕生成過程更加高效和準確\n",
            "[03:02.840 --> 03:09.140] Whisper的特點Whisper擁有極為準確的語音識別功能\n",
            "[03:09.400 --> 03:13.480] 能夠迅速生成高品質的字幕檔\n",
            "[03:13.740 --> 03:17.320] 這一項特點不僅節省時間\n",
            "[03:17.580 --> 03:21.420] 還確保字幕的準確性和一致性\n",
            "[03:21.680 --> 03:26.220] 為影片提供了出色的文本化支援\n",
            "[03:26.480 --> 03:31.820] 字幕檔的應用生成的字幕檔具有多重應用\n",
            "[03:32.120 --> 03:38.420] 包括提供多語言支持和為聽覺障礙者提供輔助\n",
            "[03:38.940 --> 03:44.020] 這不僅提升影片的可讀性和可訪問性\n",
            "[03:44.520 --> 03:47.320] 還擴大了觀眾的範圍\n",
            "[03:47.580 --> 03:51.920] 確保更廣泛的受眾能夠享受影片\n",
            "[03:52.180 --> 03:53.220] 結語\n",
            "[03:53.480 --> 03:59.160] 整體製作流程回顧在這段影音製作的旅程中\n",
            "[03:59.780 --> 04:03.820] 讓我們回顧一下整體製作流程\n",
            "[04:04.080 --> 04:08.320] 確保每一個步驟都達到了最佳效果\n",
            "[04:08.580 --> 04:10.620] 從生成大綱\n",
            "[04:10.880 --> 04:12.420] 設計簡報\n",
            "[04:12.680 --> 04:14.980] 到製作影片逐字稿\n",
            "[04:15.480 --> 04:20.080] 再到生成聲音檔並嵌入PowerPoint\n",
            "[04:20.360 --> 04:25.220] 最終產出包含字幕的引人入勝的影片\n",
            "[04:25.540 --> 04:29.520] 應用建議和注意事項細緻指導\n",
            "[04:29.780 --> 04:35.320] 在使用ChatGPT和Gamma生成大綱和簡報時\n",
            "[04:36.040 --> 04:38.280] 提供細緻的指導\n",
            "[04:38.480 --> 04:42.180] 確保生成的內容符合預期\n",
            "[04:42.420 --> 04:45.720] 以節省後續的修正時間\n",
            "[04:45.980 --> 04:47.880] 聲音檔調整\n",
            "[04:48.040 --> 04:51.220] 在Collab生成聲音檔後\n",
            "[04:51.480 --> 04:54.840] 進行必要的聲音效果調整\n",
            "[04:55.160 --> 04:59.140] 以確保聲音質量達到最佳水準\n",
            "[04:59.440 --> 05:02.840] 提供觀眾更佳的聽覺體驗\n",
            "[05:03.140 --> 05:05.340] 字幕兼顧多元\n",
            "[05:05.500 --> 05:09.360] 在使用Whisper生成字幕檔時\n",
            "[05:09.660 --> 05:14.160] 考慮不同語言的觀眾和聽覺障礙者\n",
            "[05:14.440 --> 05:19.400] 以確保字幕的多語言支持和輔助效果\n",
            "[05:19.700 --> 05:21.500] 品質檢查\n",
            "[05:21.640 --> 05:24.700] 在整個製作流程結束後\n",
            "[05:24.960 --> 05:28.640] 進行一次全面的品質檢查\n",
            "[05:28.900 --> 05:33.500] 確認影片在各個方面都達到了高標準\n",
            "[05:33.840 --> 05:41.940] 這些建議和注意事項將有助於其他影音製作者進行順利的製作\n",
            "[05:42.600 --> 05:47.100] 提升製作效率和最終產品的品質\n",
            "[05:47.400 --> 05:49.600] 讓我們共同努力\n",
            "[05:49.760 --> 05:53.760] 創造更具影響力的影音內容\n"
          ]
        }
      ]
    }
  ]
}